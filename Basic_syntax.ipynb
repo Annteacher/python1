{
  "nbformat": 4,
  "nbformat_minor": 0,
  "metadata": {
    "colab": {
      "provenance": []
    },
    "kernelspec": {
      "name": "python3",
      "display_name": "Python 3"
    },
    "language_info": {
      "name": "python"
    }
  },
  "cells": [
    {
      "cell_type": "markdown",
      "source": [
        "# **Добро пожаловать!**\n",
        "\n",
        "Язык программирования - набор правил, по которым создаются программы.\n",
        "На этом уроке мы изучим базовый синтаксис Python. Другими словами, научимся разбираться в устройстве нового для нас языка программирования."
      ],
      "metadata": {
        "id": "N6_cgbu-cNRu"
      }
    },
    {
      "cell_type": "markdown",
      "source": [
        "## 1. Операции с числами ✅\n",
        "В код можно записать любое арифметическое действие с числами A и В. Например:\n",
        "\n",
        "\n",
        "\n",
        "1.   A + B — сумма;\n",
        "2.   A - B — разность;\n",
        "3. A * B — произведение;\n",
        "4. A / B — частное;\n",
        "5. A ** B — возведение в степень:\n",
        "6. A // B — целочисленное деление;\n",
        "7. A % B — остаток от деления."
      ],
      "metadata": {
        "id": "dFF48NDmdNTV"
      }
    },
    {
      "cell_type": "markdown",
      "source": [
        "**Пример**\n",
        "\n",
        "---\n",
        "\n",
        "\n",
        "Хотим узнать сумму чисел 2 и 6: действие запишется как 2+6. Чтобы\n",
        "компьютер посчитал результат этого действия не только для себя, но и показал его нам, просим результат этого действия напечатать для нас с помощью команды print(). Запустите получившуюся программу и узнайте результат:"
      ],
      "metadata": {
        "id": "fW6YiMDqfBSi"
      }
    },
    {
      "cell_type": "code",
      "source": [
        "print(2 + 6)"
      ],
      "metadata": {
        "id": "1uLgW6BPd_Ic"
      },
      "execution_count": null,
      "outputs": []
    },
    {
      "cell_type": "markdown",
      "source": [
        "**Упражнение**\n",
        "\n",
        "---\n",
        "Попросите комьютер вывести результат деления 2048 на 4.\n"
      ],
      "metadata": {
        "id": "EbrDvn1mgtak"
      }
    },
    {
      "cell_type": "code",
      "source": [],
      "metadata": {
        "id": "d5CqLaQUg8Oy"
      },
      "execution_count": null,
      "outputs": []
    },
    {
      "cell_type": "markdown",
      "source": [
        "## 2. Переменные ✅\n",
        "Ранее мы напрямую сообщали числа компьютеру. Теперь попробуем поместить числа в переменные (проведите аналогию с математикой). Например, сообщим компьютеру, что переменная х принимает значение равное 10:"
      ],
      "metadata": {
        "id": "mKR9i_uJhW74"
      }
    },
    {
      "cell_type": "code",
      "source": [
        "x = 10"
      ],
      "metadata": {
        "id": "tjXftSO2iE2I"
      },
      "execution_count": 5,
      "outputs": []
    },
    {
      "cell_type": "markdown",
      "source": [
        "Проверим, удалось ли нам убедить компьютер в том, что х = 10. Попросим его напечатать для нас значение переменной х:"
      ],
      "metadata": {
        "id": "Dtjh1-zeiJrL"
      }
    },
    {
      "cell_type": "code",
      "source": [
        "print(x)"
      ],
      "metadata": {
        "colab": {
          "base_uri": "https://localhost:8080/"
        },
        "id": "lFYSlFk2h9Xl",
        "outputId": "35981696-5f91-4247-f6c7-98da3cfa50cf"
      },
      "execution_count": 6,
      "outputs": [
        {
          "output_type": "stream",
          "name": "stdout",
          "text": [
            "1\n"
          ]
        }
      ]
    },
    {
      "cell_type": "markdown",
      "source": [
        "Получив результат, убеждаемся, что компьютер умеет хранить в своей памяти значения переменных."
      ],
      "metadata": {
        "id": "OJn7urymikqK"
      }
    },
    {
      "cell_type": "markdown",
      "source": [
        "Давайте попросим компьютер не только запомнить значение переменной, но и осуществить арифметическое действие над ним (умножить x на 55):"
      ],
      "metadata": {
        "id": "UNmM135cit5-"
      }
    },
    {
      "cell_type": "code",
      "source": [
        "print(x * 55)"
      ],
      "metadata": {
        "id": "GxH_AK0pjCEx"
      },
      "execution_count": null,
      "outputs": []
    },
    {
      "cell_type": "markdown",
      "source": [
        "**Упражнение**\n",
        "\n",
        "---\n",
        "Изменив код предыдущих ячеек задайте новую переменную y со значением 3. Выведите с помощью функции print() значение переменной y, возведенное в третью степень.\n"
      ],
      "metadata": {
        "id": "gqj_-wwWC_v2"
      }
    },
    {
      "cell_type": "code",
      "source": [],
      "metadata": {
        "id": "SDiaBmWkDcQa"
      },
      "execution_count": null,
      "outputs": []
    },
    {
      "cell_type": "markdown",
      "source": [
        "## 3. Операции сравнения ✅\n",
        "Кроме вычислений компьютер умеет производить и сравнение чисел. Вопросы сравнения, которые можно задать компьютеру на языке Python:\n",
        "\n",
        "1.   A == B — A равно B?\n",
        "2.   A != B — A не равно B?\n",
        "3. A > B — A больше B?\n",
        "4. A < B — A меньше B?\n",
        "5. A >= B — A больше либо равно B?\n",
        "6. A <= В — A меньше либо равно B?\n"
      ],
      "metadata": {
        "id": "Y2fOXbHkDWb9"
      }
    },
    {
      "cell_type": "markdown",
      "source": [
        "На заданные вопросы о сравнении чисел компьютер будет отвечать либо TRUE (правда, да), либо FALSE (ложь, нет). Например, спросим компютер равны ли числа 100 и 1000:"
      ],
      "metadata": {
        "id": "TwqC495YFK5h"
      }
    },
    {
      "cell_type": "code",
      "source": [
        "print(100 == 1000)"
      ],
      "metadata": {
        "colab": {
          "base_uri": "https://localhost:8080/"
        },
        "id": "4BHnUvT5GvPD",
        "outputId": "1d63b347-95ad-4d99-9cc6-72d8b9d6bc62"
      },
      "execution_count": 1,
      "outputs": [
        {
          "output_type": "stream",
          "name": "stdout",
          "text": [
            "False\n"
          ]
        }
      ]
    },
    {
      "cell_type": "markdown",
      "source": [
        "Ответ очевиден, компьютер также не ошибся (мы задали ему вопрос: \"равны ли числа 100 и 1000\", на что он ответил FALSE - нет, не равны)."
      ],
      "metadata": {
        "id": "Qodg2DbeGyf9"
      }
    },
    {
      "cell_type": "markdown",
      "source": [
        "**Упражнение**\n",
        "\n",
        "---\n",
        "\n",
        "Спросите у компьютера какое из чисел больше: 73 или -73?"
      ],
      "metadata": {
        "id": "wPCipUb2G_1D"
      }
    },
    {
      "cell_type": "code",
      "source": [],
      "metadata": {
        "id": "edaAoEfYHVGg"
      },
      "execution_count": null,
      "outputs": []
    }
  ]
}
